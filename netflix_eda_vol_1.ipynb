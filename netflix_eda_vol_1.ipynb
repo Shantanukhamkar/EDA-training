{
  "metadata": {
    "kernelspec": {
      "language": "python",
      "display_name": "Python 3",
      "name": "python3"
    },
    "language_info": {
      "name": "python",
      "version": "3.7.12",
      "mimetype": "text/x-python",
      "codemirror_mode": {
        "name": "ipython",
        "version": 3
      },
      "pygments_lexer": "ipython3",
      "nbconvert_exporter": "python",
      "file_extension": ".py"
    },
    "colab": {
      "provenance": []
    }
  },
  "nbformat_minor": 0,
  "nbformat": 4,
  "cells": [
    {
      "cell_type": "markdown",
      "source": [
        "# **Exploratory analysis on Netflix Dataset**"
      ],
      "metadata": {
        "id": "wqZJp4-uIRMd"
      }
    },
    {
      "cell_type": "code",
      "source": [
        "import pandas as pd\n",
        "import numpy as np\n",
        "import matplotlib.pyplot as plt\n",
        "import seaborn as sns"
      ],
      "metadata": {
        "execution": {
          "iopub.status.busy": "2022-08-26T08:20:37.757143Z",
          "iopub.execute_input": "2022-08-26T08:20:37.757551Z",
          "iopub.status.idle": "2022-08-26T08:20:37.762326Z",
          "shell.execute_reply.started": "2022-08-26T08:20:37.757518Z",
          "shell.execute_reply": "2022-08-26T08:20:37.761421Z"
        },
        "trusted": true,
        "id": "mX3a4zdfIRMh"
      },
      "execution_count": null,
      "outputs": []
    },
    {
      "cell_type": "code",
      "source": [
        "# Dataset lodading\n",
        "data=pd.read_csv('/kaggle/input/netflix-shows/netflix_titles.csv')"
      ],
      "metadata": {
        "execution": {
          "iopub.status.busy": "2022-08-26T08:34:56.153846Z",
          "iopub.execute_input": "2022-08-26T08:34:56.154295Z",
          "iopub.status.idle": "2022-08-26T08:34:56.236321Z",
          "shell.execute_reply.started": "2022-08-26T08:34:56.154260Z",
          "shell.execute_reply": "2022-08-26T08:34:56.234922Z"
        },
        "trusted": true,
        "id": "1ZlWgwipIRMk"
      },
      "execution_count": null,
      "outputs": []
    },
    {
      "cell_type": "code",
      "source": [
        "data.head()"
      ],
      "metadata": {
        "execution": {
          "iopub.status.busy": "2022-08-26T08:34:59.324998Z",
          "iopub.execute_input": "2022-08-26T08:34:59.325448Z",
          "iopub.status.idle": "2022-08-26T08:34:59.343812Z",
          "shell.execute_reply.started": "2022-08-26T08:34:59.325412Z",
          "shell.execute_reply": "2022-08-26T08:34:59.342753Z"
        },
        "trusted": true,
        "id": "BUj0DPuCIRMl"
      },
      "execution_count": null,
      "outputs": []
    },
    {
      "cell_type": "code",
      "source": [
        "data.tail()"
      ],
      "metadata": {
        "execution": {
          "iopub.status.busy": "2022-08-26T08:35:06.687990Z",
          "iopub.execute_input": "2022-08-26T08:35:06.688951Z",
          "iopub.status.idle": "2022-08-26T08:35:06.706983Z",
          "shell.execute_reply.started": "2022-08-26T08:35:06.688913Z",
          "shell.execute_reply": "2022-08-26T08:35:06.706063Z"
        },
        "trusted": true,
        "id": "1jaldHWQIRMl"
      },
      "execution_count": null,
      "outputs": []
    },
    {
      "cell_type": "markdown",
      "source": [
        "## Data cleanning and preprocessing"
      ],
      "metadata": {
        "id": "3PgunR6IIRMm"
      }
    },
    {
      "cell_type": "code",
      "source": [
        "data.info()"
      ],
      "metadata": {
        "execution": {
          "iopub.status.busy": "2022-08-26T08:35:12.287643Z",
          "iopub.execute_input": "2022-08-26T08:35:12.288064Z",
          "iopub.status.idle": "2022-08-26T08:35:12.308813Z",
          "shell.execute_reply.started": "2022-08-26T08:35:12.288027Z",
          "shell.execute_reply": "2022-08-26T08:35:12.307834Z"
        },
        "trusted": true,
        "id": "T_fxOVwdIRMn"
      },
      "execution_count": null,
      "outputs": []
    },
    {
      "cell_type": "code",
      "source": [
        "# checking for missing values\n",
        "data.isnull().sum()"
      ],
      "metadata": {
        "execution": {
          "iopub.status.busy": "2022-08-26T08:35:37.638711Z",
          "iopub.execute_input": "2022-08-26T08:35:37.639233Z",
          "iopub.status.idle": "2022-08-26T08:35:37.661969Z",
          "shell.execute_reply.started": "2022-08-26T08:35:37.639189Z",
          "shell.execute_reply": "2022-08-26T08:35:37.660963Z"
        },
        "trusted": true,
        "id": "a-se69-dIRMo"
      },
      "execution_count": null,
      "outputs": []
    },
    {
      "cell_type": "markdown",
      "source": [
        "The dataset contains 8807 rows and 12 columns. Director, cast, country, date_added, ratings and duration columns have null values. Let's fill those whith high count values with default value."
      ],
      "metadata": {
        "id": "_7o_BGySIRMq"
      }
    },
    {
      "cell_type": "code",
      "source": [
        "# dealing with missing values\n",
        "data[\"director\"].fillna(\"Unknown\",inplace=True)\n",
        "data[\"cast\"].fillna(\"Unknown\",inplace=True)\n",
        "data[\"country\"].fillna(\"Unknown\",inplace=True)"
      ],
      "metadata": {
        "execution": {
          "iopub.status.busy": "2022-08-26T08:39:43.986855Z",
          "iopub.execute_input": "2022-08-26T08:39:43.987269Z",
          "iopub.status.idle": "2022-08-26T08:39:43.997454Z",
          "shell.execute_reply.started": "2022-08-26T08:39:43.987238Z",
          "shell.execute_reply": "2022-08-26T08:39:43.996512Z"
        },
        "trusted": true,
        "id": "X_7pdlnzIRMr"
      },
      "execution_count": null,
      "outputs": []
    },
    {
      "cell_type": "code",
      "source": [
        "data.isnull().sum()"
      ],
      "metadata": {
        "execution": {
          "iopub.status.busy": "2022-08-26T08:42:49.415572Z",
          "iopub.execute_input": "2022-08-26T08:42:49.416257Z",
          "iopub.status.idle": "2022-08-26T08:42:49.435407Z",
          "shell.execute_reply.started": "2022-08-26T08:42:49.416218Z",
          "shell.execute_reply": "2022-08-26T08:42:49.434559Z"
        },
        "trusted": true,
        "id": "0nriubNLIRMs"
      },
      "execution_count": null,
      "outputs": []
    },
    {
      "cell_type": "code",
      "source": [
        "# dropping remaining null rows\n",
        "data.dropna(inplace=True)"
      ],
      "metadata": {
        "execution": {
          "iopub.status.busy": "2022-08-26T08:42:55.665515Z",
          "iopub.execute_input": "2022-08-26T08:42:55.665945Z",
          "iopub.status.idle": "2022-08-26T08:42:55.682364Z",
          "shell.execute_reply.started": "2022-08-26T08:42:55.665894Z",
          "shell.execute_reply": "2022-08-26T08:42:55.681348Z"
        },
        "trusted": true,
        "id": "A87QY80uIRMt"
      },
      "execution_count": null,
      "outputs": []
    },
    {
      "cell_type": "code",
      "source": [
        "data.isnull().sum()"
      ],
      "metadata": {
        "execution": {
          "iopub.status.busy": "2022-08-26T08:43:08.145013Z",
          "iopub.execute_input": "2022-08-26T08:43:08.145437Z",
          "iopub.status.idle": "2022-08-26T08:43:08.162595Z",
          "shell.execute_reply.started": "2022-08-26T08:43:08.145401Z",
          "shell.execute_reply": "2022-08-26T08:43:08.161475Z"
        },
        "trusted": true,
        "id": "32fvsJi7IRMu"
      },
      "execution_count": null,
      "outputs": []
    },
    {
      "cell_type": "code",
      "source": [
        "# Duplicates\n",
        "\n",
        "data.duplicated()"
      ],
      "metadata": {
        "execution": {
          "iopub.status.busy": "2022-08-26T08:44:09.856995Z",
          "iopub.execute_input": "2022-08-26T08:44:09.857413Z",
          "iopub.status.idle": "2022-08-26T08:44:09.890164Z",
          "shell.execute_reply.started": "2022-08-26T08:44:09.857377Z",
          "shell.execute_reply": "2022-08-26T08:44:09.888833Z"
        },
        "trusted": true,
        "id": "xyOcmnewIRMv"
      },
      "execution_count": null,
      "outputs": []
    },
    {
      "cell_type": "code",
      "source": [
        "# count the duplicated row\n",
        "\n",
        "data[data.duplicated()].shape"
      ],
      "metadata": {
        "execution": {
          "iopub.status.busy": "2022-08-26T08:45:17.457772Z",
          "iopub.execute_input": "2022-08-26T08:45:17.458354Z",
          "iopub.status.idle": "2022-08-26T08:45:17.488553Z",
          "shell.execute_reply.started": "2022-08-26T08:45:17.458319Z",
          "shell.execute_reply": "2022-08-26T08:45:17.487668Z"
        },
        "trusted": true,
        "id": "qcZrZdRHIRMv"
      },
      "execution_count": null,
      "outputs": []
    },
    {
      "cell_type": "code",
      "source": [
        "# print the duplicated rows\n",
        "\n",
        "data[data.duplicated()]\n"
      ],
      "metadata": {
        "execution": {
          "iopub.status.busy": "2022-08-26T08:46:37.961356Z",
          "iopub.execute_input": "2022-08-26T08:46:37.961783Z",
          "iopub.status.idle": "2022-08-26T08:46:37.995720Z",
          "shell.execute_reply.started": "2022-08-26T08:46:37.961748Z",
          "shell.execute_reply": "2022-08-26T08:46:37.994457Z"
        },
        "trusted": true,
        "id": "SQ4slFxfIRMw"
      },
      "execution_count": null,
      "outputs": []
    },
    {
      "cell_type": "code",
      "source": [
        "data_cleaned1=data.drop_duplicates()"
      ],
      "metadata": {
        "execution": {
          "iopub.status.busy": "2022-08-26T08:47:41.672551Z",
          "iopub.execute_input": "2022-08-26T08:47:41.673012Z",
          "iopub.status.idle": "2022-08-26T08:47:41.703283Z",
          "shell.execute_reply.started": "2022-08-26T08:47:41.672975Z",
          "shell.execute_reply": "2022-08-26T08:47:41.702004Z"
        },
        "trusted": true,
        "id": "mksnx4AqIRMw"
      },
      "execution_count": null,
      "outputs": []
    },
    {
      "cell_type": "code",
      "source": [
        "data_cleaned1.shape"
      ],
      "metadata": {
        "execution": {
          "iopub.status.busy": "2022-08-26T08:48:05.800504Z",
          "iopub.execute_input": "2022-08-26T08:48:05.801404Z",
          "iopub.status.idle": "2022-08-26T08:48:05.808624Z",
          "shell.execute_reply.started": "2022-08-26T08:48:05.801359Z",
          "shell.execute_reply": "2022-08-26T08:48:05.807324Z"
        },
        "trusted": true,
        "id": "GULzxaRWIRMx"
      },
      "execution_count": null,
      "outputs": []
    },
    {
      "cell_type": "code",
      "source": [
        "# Drop columns\n",
        "data"
      ],
      "metadata": {
        "execution": {
          "iopub.status.busy": "2022-08-26T08:48:28.796211Z",
          "iopub.execute_input": "2022-08-26T08:48:28.796634Z",
          "iopub.status.idle": "2022-08-26T08:48:28.821719Z",
          "shell.execute_reply.started": "2022-08-26T08:48:28.796598Z",
          "shell.execute_reply": "2022-08-26T08:48:28.820645Z"
        },
        "trusted": true,
        "id": "8RHvfXj9IRMx"
      },
      "execution_count": null,
      "outputs": []
    },
    {
      "cell_type": "code",
      "source": [
        "data_cleaned2=data_cleaned1.drop('listed_in',axis=1)"
      ],
      "metadata": {
        "execution": {
          "iopub.status.busy": "2022-08-26T08:52:29.157080Z",
          "iopub.execute_input": "2022-08-26T08:52:29.157890Z",
          "iopub.status.idle": "2022-08-26T08:52:29.167832Z",
          "shell.execute_reply.started": "2022-08-26T08:52:29.157849Z",
          "shell.execute_reply": "2022-08-26T08:52:29.166746Z"
        },
        "trusted": true,
        "id": "sf4JuLn3IRMy"
      },
      "execution_count": null,
      "outputs": []
    },
    {
      "cell_type": "code",
      "source": [
        "data_cleaned2"
      ],
      "metadata": {
        "execution": {
          "iopub.status.busy": "2022-08-26T08:52:40.262959Z",
          "iopub.execute_input": "2022-08-26T08:52:40.263371Z",
          "iopub.status.idle": "2022-08-26T08:52:40.288254Z",
          "shell.execute_reply.started": "2022-08-26T08:52:40.263334Z",
          "shell.execute_reply": "2022-08-26T08:52:40.287089Z"
        },
        "trusted": true,
        "id": "CfNtEdhmIRMy"
      },
      "execution_count": null,
      "outputs": []
    },
    {
      "cell_type": "code",
      "source": [
        "cols=data_cleaned2.columns\n",
        "colours=['#000099','#ffff00']\n",
        "sns.heatmap(data_cleaned2[cols].isnull(),cmap=sns.color_palette(colours))"
      ],
      "metadata": {
        "execution": {
          "iopub.status.busy": "2022-08-26T09:00:42.945861Z",
          "iopub.execute_input": "2022-08-26T09:00:42.946268Z",
          "iopub.status.idle": "2022-08-26T09:00:43.486320Z",
          "shell.execute_reply.started": "2022-08-26T09:00:42.946233Z",
          "shell.execute_reply": "2022-08-26T09:00:43.485147Z"
        },
        "trusted": true,
        "id": "1CMglIYfIRMz"
      },
      "execution_count": null,
      "outputs": []
    },
    {
      "cell_type": "code",
      "source": [
        "data_cleaned2[data_cleaned2.isnull().any(axis=1)].head()"
      ],
      "metadata": {
        "execution": {
          "iopub.status.busy": "2022-08-26T09:01:20.174154Z",
          "iopub.execute_input": "2022-08-26T09:01:20.174548Z",
          "iopub.status.idle": "2022-08-26T09:01:20.192862Z",
          "shell.execute_reply.started": "2022-08-26T09:01:20.174515Z",
          "shell.execute_reply": "2022-08-26T09:01:20.191678Z"
        },
        "trusted": true,
        "id": "mP_5lXtuIRMz"
      },
      "execution_count": null,
      "outputs": []
    },
    {
      "cell_type": "code",
      "source": [
        "data_cleaned2.isnull().sum()"
      ],
      "metadata": {
        "execution": {
          "iopub.status.busy": "2022-08-26T09:02:01.070468Z",
          "iopub.execute_input": "2022-08-26T09:02:01.071527Z",
          "iopub.status.idle": "2022-08-26T09:02:01.087552Z",
          "shell.execute_reply.started": "2022-08-26T09:02:01.071484Z",
          "shell.execute_reply": "2022-08-26T09:02:01.086330Z"
        },
        "trusted": true,
        "id": "40g8Z-10IRM0"
      },
      "execution_count": null,
      "outputs": []
    },
    {
      "cell_type": "code",
      "source": [
        "# Box plot\n",
        "\n",
        "data_box=data_cleaned2.dropna()\n",
        "data1_box=data_box.release_year\n",
        "plt.boxplot(data1_box)"
      ],
      "metadata": {
        "execution": {
          "iopub.status.busy": "2022-08-26T09:15:25.359557Z",
          "iopub.execute_input": "2022-08-26T09:15:25.360031Z",
          "iopub.status.idle": "2022-08-26T09:15:25.512281Z",
          "shell.execute_reply.started": "2022-08-26T09:15:25.359983Z",
          "shell.execute_reply": "2022-08-26T09:15:25.511094Z"
        },
        "trusted": true,
        "id": "2vBSDVN_IRM1"
      },
      "execution_count": null,
      "outputs": []
    },
    {
      "cell_type": "code",
      "source": [
        "dir(data_box)"
      ],
      "metadata": {
        "execution": {
          "iopub.status.busy": "2022-08-26T09:16:54.050848Z",
          "iopub.execute_input": "2022-08-26T09:16:54.051294Z",
          "iopub.status.idle": "2022-08-26T09:16:54.067003Z",
          "shell.execute_reply.started": "2022-08-26T09:16:54.051257Z",
          "shell.execute_reply": "2022-08-26T09:16:54.065745Z"
        },
        "trusted": true,
        "id": "RLPMiTayIRM1"
      },
      "execution_count": null,
      "outputs": []
    },
    {
      "cell_type": "code",
      "source": [
        "!pip install pandas.profiling==3.1.0"
      ],
      "metadata": {
        "execution": {
          "iopub.status.busy": "2022-08-26T09:21:26.145784Z",
          "iopub.execute_input": "2022-08-26T09:21:26.147022Z",
          "iopub.status.idle": "2022-08-26T09:23:03.311515Z",
          "shell.execute_reply.started": "2022-08-26T09:21:26.146973Z",
          "shell.execute_reply": "2022-08-26T09:23:03.309973Z"
        },
        "trusted": true,
        "id": "ddEZSGqKIRM1"
      },
      "execution_count": null,
      "outputs": []
    },
    {
      "cell_type": "code",
      "source": [
        "import pandas_profiling as pp\n",
        "\n"
      ],
      "metadata": {
        "execution": {
          "iopub.status.busy": "2022-08-26T09:23:12.855538Z",
          "iopub.execute_input": "2022-08-26T09:23:12.856507Z",
          "iopub.status.idle": "2022-08-26T09:23:12.862131Z",
          "shell.execute_reply.started": "2022-08-26T09:23:12.856460Z",
          "shell.execute_reply": "2022-08-26T09:23:12.860879Z"
        },
        "trusted": true,
        "id": "oilCTjgtIRM2"
      },
      "execution_count": null,
      "outputs": []
    },
    {
      "cell_type": "code",
      "source": [
        "EDA_report= pp.ProfileReport(data)\n",
        "EDA_report.to_file(output_file='report.html')"
      ],
      "metadata": {
        "execution": {
          "iopub.status.busy": "2022-08-26T09:23:24.127523Z",
          "iopub.execute_input": "2022-08-26T09:23:24.127997Z",
          "iopub.status.idle": "2022-08-26T09:23:37.957301Z",
          "shell.execute_reply.started": "2022-08-26T09:23:24.127954Z",
          "shell.execute_reply": "2022-08-26T09:23:37.955971Z"
        },
        "trusted": true,
        "id": "SnicNCqzIRM2"
      },
      "execution_count": null,
      "outputs": []
    }
  ]
}